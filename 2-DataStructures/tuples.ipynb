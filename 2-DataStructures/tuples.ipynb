{
 "cells": [
  {
   "cell_type": "code",
   "execution_count": 1,
   "id": "890cb87c",
   "metadata": {},
   "outputs": [
    {
     "name": "stdout",
     "output_type": "stream",
     "text": [
      "()\n",
      "<class 'tuple'>\n"
     ]
    }
   ],
   "source": [
    "tuple = ()\n",
    "print(tuple)\n",
    "print(type(tuple))\n"
   ]
  },
  {
   "cell_type": "code",
   "execution_count": 2,
   "id": "82694716",
   "metadata": {},
   "outputs": [
    {
     "name": "stdout",
     "output_type": "stream",
     "text": [
      "(1, 2.0, '3', True)\n",
      "<class 'tuple'>\n",
      "1\n"
     ]
    }
   ],
   "source": [
    "mixed_tuple = (1, 2.0, \"3\", True)\n",
    "print(mixed_tuple)\n",
    "print(type(mixed_tuple))\n",
    "print(mixed_tuple[0])   "
   ]
  },
  {
   "cell_type": "code",
   "execution_count": 3,
   "id": "6880ecf2",
   "metadata": {},
   "outputs": [
    {
     "name": "stdout",
     "output_type": "stream",
     "text": [
      "1\n",
      "[2, 3, 4]\n",
      "5\n",
      "1\n",
      "(2, 3, 4)\n",
      "(2, 3, 4, 5)\n"
     ]
    }
   ],
   "source": [
    "numbers = (1, 2, 3, 4, 5)\n",
    "first, *middle, last = numbers\n",
    "print(first)  # 1\n",
    "print(middle)  # [2, 3, 4]\n",
    "print(last)  # 5\n",
    "print(numbers[0])  # 1\n",
    "print(numbers[1:4])  # (2, 3, 4)\n",
    "print(numbers[1:])  # (2, 3, 4, 5)"
   ]
  },
  {
   "cell_type": "code",
   "execution_count": 6,
   "id": "50300b8a",
   "metadata": {},
   "outputs": [
    {
     "name": "stdout",
     "output_type": "stream",
     "text": [
      "((1, 2), (3, 4))\n",
      "(1, 2)\n",
      "1\n",
      "2\n",
      "(3, 4)\n",
      "3\n",
      "4\n",
      "5\n"
     ]
    }
   ],
   "source": [
    "tuple1=((1, 2), (3, 4))\n",
    "print(tuple1)\n",
    "print(tuple1[0])  # (1, 2)\n",
    "print(tuple1[0][0])  # 1\n",
    "print(tuple1[0][1])  # 2\n",
    "print(tuple1[1])  # (3, 4)\n",
    "print(tuple1[1][0])  # 3\n",
    "print(tuple1[1][1])  # 4\n",
    "print(tuple1[0][0] + tuple1[1][1])  # 5"
   ]
  },
  {
   "cell_type": "code",
   "execution_count": null,
   "id": "b612565c",
   "metadata": {},
   "outputs": [],
   "source": []
  }
 ],
 "metadata": {
  "kernelspec": {
   "display_name": "Python 3",
   "language": "python",
   "name": "python3"
  },
  "language_info": {
   "codemirror_mode": {
    "name": "ipython",
    "version": 3
   },
   "file_extension": ".py",
   "mimetype": "text/x-python",
   "name": "python",
   "nbconvert_exporter": "python",
   "pygments_lexer": "ipython3",
   "version": "3.12.9"
  }
 },
 "nbformat": 4,
 "nbformat_minor": 5
}
