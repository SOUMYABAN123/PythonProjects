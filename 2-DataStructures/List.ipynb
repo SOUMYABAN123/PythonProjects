{
 "cells": [
  {
   "cell_type": "code",
   "execution_count": 1,
   "id": "fa326cb0",
   "metadata": {},
   "outputs": [
    {
     "name": "stdout",
     "output_type": "stream",
     "text": [
      "<class 'list'>\n"
     ]
    }
   ],
   "source": [
    "lst=[]\n",
    "print(type(lst))"
   ]
  },
  {
   "cell_type": "code",
   "execution_count": 2,
   "id": "bd837256",
   "metadata": {},
   "outputs": [
    {
     "name": "stdout",
     "output_type": "stream",
     "text": [
      "Alice\n",
      "Bob\n",
      "Charlie\n",
      "<class 'list'>\n"
     ]
    }
   ],
   "source": [
    "names = ['Alice', 'Bob', 'Charlie']\n",
    "for name in names:\n",
    "    print(name)\n",
    "print(type(names))"
   ]
  },
  {
   "cell_type": "code",
   "execution_count": 3,
   "id": "6f725fb3",
   "metadata": {},
   "outputs": [
    {
     "name": "stdout",
     "output_type": "stream",
     "text": [
      "[1, 'Alice', 3.14, True]\n",
      "<class 'list'>\n"
     ]
    }
   ],
   "source": [
    "mixed_list = [1, 'Alice', 3.14, True]\n",
    "print(mixed_list)\n",
    "print(type(mixed_list))"
   ]
  },
  {
   "cell_type": "code",
   "execution_count": 4,
   "id": "f97d5dca",
   "metadata": {},
   "outputs": [
    {
     "name": "stdout",
     "output_type": "stream",
     "text": [
      "apple\n",
      "banana\n",
      "cherry\n",
      "cherry\n",
      "banana\n",
      "apple\n",
      "['banana', 'cherry']\n",
      "['banana', 'cherry']\n",
      "['apple', 'banana']\n",
      "['apple', 'cherry']\n",
      "['cherry', 'banana', 'apple']\n",
      "['banana', 'cherry']\n",
      "['apple', 'banana', 'cherry', 'orange']\n",
      "['apple', 'kiwi', 'banana', 'cherry', 'orange']\n",
      "['apple', 'kiwi', 'cherry', 'orange']\n",
      "['apple', 'kiwi', 'cherry']\n",
      "['apple', 'cherry']\n",
      "['apple', 'cherry']\n",
      "['cherry', 'apple']\n"
     ]
    }
   ],
   "source": [
    "fruits = ['apple', 'banana', 'cherry']\n",
    "print(fruits[0])  # Accessing the first element \n",
    "print(fruits[1])  # Accessing the second element\n",
    "print(fruits[2])  # Accessing the third element\n",
    "print(fruits[-1])  # Accessing the last element\n",
    "print(fruits[-2])  # Accessing the second to last element   \n",
    "print(fruits[-3])  # Accessing the third to last element\n",
    "print(fruits[1:3])  # Slicing from index 1 to 2\n",
    "print(fruits[1:])  # Slicing from index 1 to the end\n",
    "print(fruits[:2])  # Slicing from the beginning to index 1\n",
    "print(fruits[::2])  # Slicing with a step of 2\n",
    "print(fruits[::-1])  # Reversing the list\n",
    "print(fruits[1:3])  # Slicing from index 1 to 2\n",
    "\n",
    "# List methods\n",
    "fruits.append('orange')  # Adding an element to the end\n",
    "print(fruits)\n",
    "fruits.insert(1, 'kiwi')  # Inserting an element at index 1\n",
    "print(fruits)\n",
    "fruits.remove('banana')  # Removing an element by value\n",
    "print(fruits)\n",
    "fruits.pop()  # Removing the last element\n",
    "print(fruits)\n",
    "fruits.pop(1)  # Removing the element at index 1\n",
    "print(fruits)\n",
    "fruits.sort()  # Sorting the list\n",
    "print(fruits)\n",
    "fruits.reverse()  # Reversing the list\n",
    "print(fruits)\n",
    "\n"
   ]
  },
  {
   "cell_type": "code",
   "execution_count": 5,
   "id": "52df67d3",
   "metadata": {},
   "outputs": [
    {
     "name": "stdout",
     "output_type": "stream",
     "text": [
      "<class 'list'>\n"
     ]
    }
   ],
   "source": [
    "print(type(fruits))"
   ]
  },
  {
   "cell_type": "code",
   "execution_count": 6,
   "id": "e8003f64",
   "metadata": {},
   "outputs": [
    {
     "name": "stdout",
     "output_type": "stream",
     "text": [
      "[1, 2, 3, 4, 5, 6, 7, 8, 9, 10]\n",
      "[1, 2, 3, 4, 5]\n",
      "[6, 7, 8, 9, 10]\n",
      "[1, 2, 3, 4, 5]\n",
      "[1, 3, 5, 7, 9]\n",
      "[10, 9, 8, 7, 6, 5, 4, 3, 2, 1]\n"
     ]
    }
   ],
   "source": [
    "numbers = [1, 2, 3, 4, 5, 6, 7, 8, 9, 10]\n",
    "print(numbers)\n",
    "print(numbers[0:5])  # Slicing from index 0 to 4\n",
    "print(numbers[5:])  # Slicing from index 5 to the end\n",
    "print(numbers[:5])  # Slicing from the beginning to index 4\n",
    "print(numbers[::2])  # Slicing with a step of 2\n",
    "print(numbers[::-1])  # Reversing the list\n",
    "\n"
   ]
  },
  {
   "cell_type": "code",
   "execution_count": 7,
   "id": "e8c5fba9",
   "metadata": {},
   "outputs": [
    {
     "name": "stdout",
     "output_type": "stream",
     "text": [
      "[0, 2, 4, 6, 8, 10, 12, 14, 16, 18]\n"
     ]
    }
   ],
   "source": [
    "lst=[]\n",
    "for x in range(10):\n",
    "    lst.append(x* 2)\n",
    "\n",
    "print(lst)"
   ]
  },
  {
   "cell_type": "code",
   "execution_count": 8,
   "id": "7d3aed1c",
   "metadata": {},
   "outputs": [
    {
     "name": "stdout",
     "output_type": "stream",
     "text": [
      "[0, 1, 4, 9, 16, 25, 36, 49, 64, 81]\n"
     ]
    }
   ],
   "source": [
    "## List Comprehension\n",
    "\n",
    "squares = [x**2 for x in range(10)]\n",
    "print(squares)"
   ]
  },
  {
   "cell_type": "code",
   "execution_count": 9,
   "id": "457e6034",
   "metadata": {},
   "outputs": [
    {
     "name": "stdout",
     "output_type": "stream",
     "text": [
      "[0, 4, 16, 36, 64]\n"
     ]
    }
   ],
   "source": [
    "### List comprehension \n",
    "# BASIC SYTAX = [expression for item in iterable]\n",
    "#WITH CONDITIONALS = [expression for item in iterable if condition]\n",
    "# Example with condition\n",
    "even_squares = [x**2 for x in range(10) if x % 2 == 0]\n",
    "print(even_squares)"
   ]
  },
  {
   "cell_type": "code",
   "execution_count": null,
   "id": "2bbbc6ed",
   "metadata": {},
   "outputs": [],
   "source": []
  },
  {
   "cell_type": "code",
   "execution_count": 10,
   "id": "eed62122",
   "metadata": {},
   "outputs": [
    {
     "name": "stdout",
     "output_type": "stream",
     "text": [
      "[(1, 'a'), (2, 'b'), (3, 'c')]\n"
     ]
    }
   ],
   "source": [
    "lst1 = [1, 2, 3]\n",
    "lst2 = ['a', 'b', 'c']\n",
    "# Using zip to combine two lists\n",
    "zipped = list(zip(lst1, lst2))\n",
    "print(zipped)  # Output: [(1, 'a'), (2, 'b'), (3, 'c')]"
   ]
  },
  {
   "cell_type": "markdown",
   "id": "8c4be20d",
   "metadata": {},
   "source": []
  },
  {
   "cell_type": "code",
   "execution_count": 11,
   "id": "b5067904",
   "metadata": {},
   "outputs": [
    {
     "name": "stdout",
     "output_type": "stream",
     "text": [
      "[(1, 'a'), (2, 'b')]\n",
      "[(1, 'a'), (2, 'b'), (3, 'c')]\n"
     ]
    }
   ],
   "source": [
    "lst1 = [1, 2, 3]\n",
    "lst2 = ['a', 'b']\n",
    "# Using zip to combine two lists of different lengths\n",
    "zipped = list(zip(lst1, lst2))\n",
    "print(zipped)  # Output: [(1, 'a'), (2, 'b')]\n",
    "# Using zip with unpacking\n",
    "lst1 = [1, 2, 3]\n",
    "lst2 = ['a', 'b', 'c']\n",
    "zipped = list(zip(lst1, lst2))\n",
    "print(zipped)  # Output: [(1, 'a'), (2, 'b'), (3, 'c')]"
   ]
  },
  {
   "cell_type": "code",
   "execution_count": 16,
   "id": "f33a6aa7",
   "metadata": {},
   "outputs": [
    {
     "name": "stdout",
     "output_type": "stream",
     "text": [
      "[[1, 'a'], [1, 'b'], [1, 'c'], [1, 'd'], [2, 'a'], [2, 'b'], [2, 'c'], [2, 'd'], [3, 'a'], [3, 'b'], [3, 'c'], [3, 'd'], [4, 'a'], [4, 'b'], [4, 'c'], [4, 'd']]\n"
     ]
    }
   ],
   "source": [
    "lst1 = [1, 2, 3, 4]\n",
    "lst2 = ['a', 'b', 'c', 'd']\n",
    "\n",
    "pair = [[i,j] for i in lst1 for j in lst2]\n",
    "\n",
    "print(pair)  # Output: [[1, 'a'], [2, 'b'], [3, 'c'], [4, 'd']]"
   ]
  },
  {
   "cell_type": "code",
   "execution_count": null,
   "id": "cbebce45",
   "metadata": {},
   "outputs": [],
   "source": []
  }
 ],
 "metadata": {
  "kernelspec": {
   "display_name": "Python 3",
   "language": "python",
   "name": "python3"
  },
  "language_info": {
   "codemirror_mode": {
    "name": "ipython",
    "version": 3
   },
   "file_extension": ".py",
   "mimetype": "text/x-python",
   "name": "python",
   "nbconvert_exporter": "python",
   "pygments_lexer": "ipython3",
   "version": "3.12.9"
  }
 },
 "nbformat": 4,
 "nbformat_minor": 5
}
