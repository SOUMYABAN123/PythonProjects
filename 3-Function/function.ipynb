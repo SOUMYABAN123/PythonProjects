{
 "cells": [
  {
   "cell_type": "code",
   "execution_count": 1,
   "id": "3c6d1a26",
   "metadata": {},
   "outputs": [
    {
     "name": "stdout",
     "output_type": "stream",
     "text": [
      "False\n",
      "True\n",
      "True\n"
     ]
    }
   ],
   "source": [
    "def odd(n):\n",
    "  if n % 2 == 0:\n",
    "    return False\n",
    "  else:\n",
    "    return True\n",
    "def even(n):\n",
    "  if n % 2 == 0:\n",
    "    return True\n",
    "  else:\n",
    "    return False    \n",
    "  \n",
    "odd(8)\n",
    "even(8)\n",
    "print(odd(8))\n",
    "print(even(8))\n",
    "print(odd(7))\n"
   ]
  },
  {
   "cell_type": "code",
   "execution_count": 2,
   "id": "8ca5aefb",
   "metadata": {},
   "outputs": [
    {
     "name": "stdout",
     "output_type": "stream",
     "text": [
      "1\n",
      "2\n",
      "3\n",
      "4\n",
      "5\n",
      "Soumya\n",
      "Saha\n",
      "6.7\n",
      "8.9\n",
      "10.11\n"
     ]
    }
   ],
   "source": [
    "def print_arguments(*args):\n",
    "  for arg in args:\n",
    "    print(arg)\n",
    "\n",
    "print_arguments(1, 2, 3, 4, 5,\"Soumya\", \"Saha\", 6.7, 8.9, 10.11)"
   ]
  },
  {
   "cell_type": "code",
   "execution_count": 3,
   "id": "6042d1e5",
   "metadata": {},
   "outputs": [
    {
     "name": "stdout",
     "output_type": "stream",
     "text": [
      "name : Soumya\n",
      "age : 22\n",
      "city : Kolkata\n",
      "country : India\n"
     ]
    }
   ],
   "source": [
    "def print_details(**args):\n",
    "  for key, value in args.items():\n",
    "    print(f\"{key} : {value}\")\n",
    "\n",
    "print_details(name=\"Soumya\", age=22, city=\"Kolkata\", country=\"India\")"
   ]
  },
  {
   "cell_type": "code",
   "execution_count": 5,
   "id": "235f6895",
   "metadata": {},
   "outputs": [
    {
     "name": "stdout",
     "output_type": "stream",
     "text": [
      " Positional argument : 1\n",
      " Positional argument : 2\n",
      " Positional argument : 3\n",
      "name : Soumya\n",
      "age : 22\n",
      "city : Kolkata\n",
      "country : India\n"
     ]
    }
   ],
   "source": [
    "def print_details(*values, **details):\n",
    "  for value in values:\n",
    "    print(f\" Positional argument : {value}\")\n",
    "  for key, value in details.items():\n",
    "    print(f\"{key} : {value}\")\n",
    "\n",
    "print_details(1, 2, 3, name=\"Soumya\", age=22, city=\"Kolkata\", country=\"India\")"
   ]
  },
  {
   "cell_type": "code",
   "execution_count": null,
   "id": "1d62367c",
   "metadata": {},
   "outputs": [],
   "source": []
  }
 ],
 "metadata": {
  "kernelspec": {
   "display_name": "Python 3",
   "language": "python",
   "name": "python3"
  },
  "language_info": {
   "codemirror_mode": {
    "name": "ipython",
    "version": 3
   },
   "file_extension": ".py",
   "mimetype": "text/x-python",
   "name": "python",
   "nbconvert_exporter": "python",
   "pygments_lexer": "ipython3",
   "version": "3.12.9"
  }
 },
 "nbformat": 4,
 "nbformat_minor": 5
}
