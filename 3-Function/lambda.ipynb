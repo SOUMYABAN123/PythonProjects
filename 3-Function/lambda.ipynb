{
 "cells": [
  {
   "cell_type": "code",
   "execution_count": 1,
   "id": "5c99dbd5",
   "metadata": {},
   "outputs": [
    {
     "name": "stdout",
     "output_type": "stream",
     "text": [
      "Addition of 5 and 3: 8\n",
      "Subtraction of 5 and 3: 2\n"
     ]
    }
   ],
   "source": [
    "addition = lambda x, y: x + y\n",
    "subtraction = lambda x, y: x - y\n",
    "print(\"Addition of 5 and 3:\", addition(5, 3))\n",
    "print(\"Subtraction of 5 and 3:\", subtraction(5, 3))\n"
   ]
  },
  {
   "cell_type": "code",
   "execution_count": 2,
   "id": "ba3c2ab9",
   "metadata": {},
   "outputs": [
    {
     "data": {
      "text/plain": [
       "True"
      ]
     },
     "execution_count": 2,
     "metadata": {},
     "output_type": "execute_result"
    }
   ],
   "source": [
    "even1= lambda x: x % 2 == 0\n",
    "even1(12)"
   ]
  },
  {
   "cell_type": "code",
   "execution_count": 5,
   "id": "b3563a15",
   "metadata": {},
   "outputs": [
    {
     "name": "stdout",
     "output_type": "stream",
     "text": [
      "[1, 4, 9, 16, 25]\n"
     ]
    }
   ],
   "source": [
    "numbers = [1, 2, 3, 4, 5]\n",
    "list[map(lambda x: x**2, numbers)]\n",
    "print(list(map(lambda x: x**2, numbers)))"
   ]
  },
  {
   "cell_type": "code",
   "execution_count": null,
   "id": "a14eecc7",
   "metadata": {},
   "outputs": [],
   "source": []
  }
 ],
 "metadata": {
  "kernelspec": {
   "display_name": "Python 3",
   "language": "python",
   "name": "python3"
  },
  "language_info": {
   "codemirror_mode": {
    "name": "ipython",
    "version": 3
   },
   "file_extension": ".py",
   "mimetype": "text/x-python",
   "name": "python",
   "nbconvert_exporter": "python",
   "pygments_lexer": "ipython3",
   "version": "3.12.9"
  }
 },
 "nbformat": 4,
 "nbformat_minor": 5
}
